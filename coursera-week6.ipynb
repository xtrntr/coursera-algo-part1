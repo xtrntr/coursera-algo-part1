{
 "cells": [
  {
   "cell_type": "code",
   "execution_count": 1,
   "metadata": {
    "collapsed": false
   },
   "outputs": [],
   "source": [
    "import requests\n",
    "from copy import deepcopy\n",
    "from bisect import *\n",
    "import heapq"
   ]
  },
  {
   "cell_type": "markdown",
   "metadata": {},
   "source": [
    "The goal of this problem is to implement a variant of the 2-SUM algorithm (covered in the Week 6 lecture on hash table applications).\n",
    "\n",
    "The file contains 1 million integers, both positive and negative (there might be some repetitions!).This is your array of integers, with the ith row of the file specifying the ith entry of the array.\n",
    "\n",
    "Your task is to compute the number of target values t in the interval [-10000,10000] (inclusive) such that there are distinct numbers x,y in the input file that satisfy x+y=t. (NOTE: ensuring distinctness requires a one-line addition to the algorithm from lecture.)\n",
    "\n",
    "Write your numeric answer (an integer between 0 and 20001) in the space provided."
   ]
  },
  {
   "cell_type": "code",
   "execution_count": 2,
   "metadata": {
    "collapsed": false
   },
   "outputs": [],
   "source": [
    "req = requests.get('https://d3c33hcgiwev3.cloudfront.net/_6ec67df2804ff4b58ab21c12edcb21f8_algo1-programming_prob-2sum.txt?Expires=1485648000&Signature=Mj4N6h~MXsdzZMJqH8OsALzCZkmWOlCAZZX2LH-J7cOtUqMNL4JB5CHARu17k~skdh4D7bqW7X8oFaBEbDrJ5BhVzkxxcHen-9ANQKpK8Yp-8tSt90oNcku6wMh0OgmAcZpZRcoAM8m4ztkX7NTrI0XnEJ~A1sDWPhoP3ANrQiU_&Key-Pair-Id=APKAJLTNE6QMUY6HBC5A')"
   ]
  },
  {
   "cell_type": "code",
   "execution_count": 3,
   "metadata": {
    "collapsed": false
   },
   "outputs": [],
   "source": [
    "original = [int(x.decode(\"utf-8\")) for x in req.iter_lines()]\n",
    "numbers = sorted(deepcopy(original))"
   ]
  },
  {
   "cell_type": "code",
   "execution_count": 9,
   "metadata": {
    "collapsed": false
   },
   "outputs": [
    {
     "name": "stdout",
     "output_type": "stream",
     "text": [
      "427\n"
     ]
    }
   ],
   "source": [
    "vis = {x: 0 for x in range(-10000,10001)}\n",
    "\n",
    "for val in numbers:\n",
    "    # find the index of values in the sorted array that complements val, where\n",
    "    # the complement of val where val + complement is in the range -10000,10000\n",
    "    l_index = bisect_left(numbers, -10000-val)\n",
    "    r_index = bisect_right(numbers, 10000-val)\n",
    "    for j in range(l_index, r_index):\n",
    "        vis[val + numbers[j]] = 1\n",
    "print(sum(vis.values()))"
   ]
  },
  {
   "cell_type": "markdown",
   "metadata": {},
   "source": [
    "The goal of this problem is to implement the \"Median Maintenance\" algorithm (covered in the Week 5 lecture on heap applications). The text file contains a list of the integers from 1 to 10000 in unsorted order; you should treat this as a stream of numbers, arriving one by one. Letting xi denote the ith number of the file, the kth median mk is defined as the median of the numbers x1,…,xk. (So, if k is odd, then mk is ((k+1)/2)th smallest number among x1,…,xk; if k is even, then mk is the (k/2)th smallest number among x1,…,xk.)\n",
    "\n",
    "In the box below you should type the sum of these 10000 medians, modulo 10000 (i.e., only the last 4 digits). That is, you should compute (m1+m2+m3+⋯+m10000)mod10000."
   ]
  },
  {
   "cell_type": "code",
   "execution_count": 15,
   "metadata": {
    "collapsed": true
   },
   "outputs": [],
   "source": [
    "req2 = requests.get('https://d3c33hcgiwev3.cloudfront.net/_6ec67df2804ff4b58ab21c12edcb21f8_Median.txt?Expires=1485648000&Signature=K5yRaImczT9-PthDBKn~qDROPfeYEr7~41JM7rtXIB2OyhQjwGBXwotf-9NABVJJ8C7KX-jA9DreRSjkNL6HiW39l3h3iv-aRjm31Lpl1e1x-ctLfhpTGZX0m3daXwUg9sF2ljTHNEeMZhAdhNz-JZn82GgBNnXWaUPsxXGLptE_&Key-Pair-Id=APKAJLTNE6QMUY6HBC5A')"
   ]
  },
  {
   "cell_type": "code",
   "execution_count": 23,
   "metadata": {
    "collapsed": false
   },
   "outputs": [
    {
     "name": "stdout",
     "output_type": "stream",
     "text": [
      "1213\n"
     ]
    }
   ],
   "source": [
    "min_heap = []\n",
    "max_heap = []\n",
    "res = 0\n",
    "for line in req2.iter_lines():\n",
    "    if line == b'':\n",
    "        continue\n",
    "    val = int(line.decode(\"utf-8\"))\n",
    "    if not max_heap or val < -max_heap[0]:\n",
    "        heapq.heappush(max_heap, -val)\n",
    "    else:\n",
    "        heapq.heappush(min_heap, val)\n",
    "    if len(max_heap) - len(min_heap) > 1:\n",
    "        heapq.heappush(min_heap, -heapq.heappop(max_heap))\n",
    "    if len(min_heap) > len(max_heap):\n",
    "        heapq.heappush(max_heap, -heapq.heappop(min_heap))\n",
    "    res += -max_heap[0]\n",
    "\n",
    "print(res % 10000)"
   ]
  },
  {
   "cell_type": "code",
   "execution_count": 21,
   "metadata": {
    "collapsed": false
   },
   "outputs": [
    {
     "data": {
      "text/plain": [
       "True"
      ]
     },
     "execution_count": 21,
     "metadata": {},
     "output_type": "execute_result"
    }
   ],
   "source": [
    "b'' in [x for x in req2.iter_lines()]"
   ]
  },
  {
   "cell_type": "code",
   "execution_count": null,
   "metadata": {
    "collapsed": true
   },
   "outputs": [],
   "source": []
  }
 ],
 "metadata": {
  "anaconda-cloud": {},
  "kernelspec": {
   "display_name": "Python [default]",
   "language": "python",
   "name": "python3"
  },
  "language_info": {
   "codemirror_mode": {
    "name": "ipython",
    "version": 3
   },
   "file_extension": ".py",
   "mimetype": "text/x-python",
   "name": "python",
   "nbconvert_exporter": "python",
   "pygments_lexer": "ipython3",
   "version": "3.5.2"
  }
 },
 "nbformat": 4,
 "nbformat_minor": 1
}
