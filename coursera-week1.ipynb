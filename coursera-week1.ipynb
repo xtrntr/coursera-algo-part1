{
 "cells": [
  {
   "cell_type": "markdown",
   "metadata": {},
   "source": [
    "Counting the number of inversions in an array of unique numbers.\n",
    "An inversion is two elements that, if picked out of the array, would not be in order (assuming the array is read from left to right).\n",
    "\n",
    "Example:\n",
    "[3, 4, 2, 1] would have the following inversions:\n",
    "(4, 1), (4, 2), (3, 2), (3, 1) and (2, 1)\n",
    "\n",
    "Using divide and conquer to solve this would entail the following steps:\n",
    "\n",
    "1) divide an array into two arrays: [3, 4], [2, 1]\n",
    "\n",
    "2) sort them: [3, 4], [1, 2]\n",
    "\n",
    "3) \n",
    "\n",
    "4) "
   ]
  },
  {
   "cell_type": "code",
   "execution_count": 152,
   "metadata": {},
   "outputs": [],
   "source": [
    "test_arr = [3, 4, 2, 1, 6]\n",
    "\n",
    "def count_inversion(arr):\n",
    "    first_part = sorted(arr[:len(arr)//2])\n",
    "    second_part = sorted(arr[len(arr)//2:])\n",
    "    len_first_part = len(first_part)\n",
    "    len_second_part = len(second_part)\n",
    "    num_elements = len(arr)\n",
    "    num_split_inversions, i, j = 0, 0, 0\n",
    "    for k in range(num_elements):\n",
    "        if first_part[i] < second_part[j]:\n",
    "            i += 1\n",
    "            if i == len_first_part:\n",
    "                break\n",
    "        else:\n",
    "            j += 1\n",
    "            print(\"add {0} inversions to {1}\".format(len_first_part - i, num_split_inversions))\n",
    "            num_split_inversions += len_first_part - i\n",
    "            if j == len_second_part:\n",
    "                break\n",
    "    return num_split_inversions\n",
    "\n",
    "def _SortAndCountInversions(lst, start, end):\n",
    "    if (start == end):\n",
    "        return 0\n",
    "    else:\n",
    "        #print(\"sort from {0} to {1}\".format(start, end))\n",
    "        x = _SortAndCountInversions(lst, start, (end+start)//2)\n",
    "        y = _SortAndCountInversions(lst, (end+start)//2+1, end)\n",
    "        z = _MergeAndCountSplitInversions(lst, start, (end+start)//2+1, end)\n",
    "        return (x+y+z)\n",
    "\n",
    "def _MergeAndCountSplitInversions(lst, start, mid, end):\n",
    "    print(\"orig: {0}\".format(lst))\n",
    "    i = start\n",
    "    j = mid\n",
    "    res = []\n",
    "    inv = 0\n",
    "    \n",
    "    while (i < mid or j <= end):\n",
    "        if (i == mid):\n",
    "            res.append(lst[j])\n",
    "            j += 1\n",
    "        elif (j > end):\n",
    "            res.append(lst[i])\n",
    "            i += 1\n",
    "        elif (lst[i] <= lst[j]):\n",
    "            res.append(lst[i])\n",
    "            i += 1\n",
    "        elif (lst[i] >= lst[j]):\n",
    "            inv += (mid-i) \n",
    "            res.append(lst[j])\n",
    "            j += 1\n",
    "        \n",
    "    i = start\n",
    "    while (i <= end):\n",
    "        lst[i] = res[i-start]\n",
    "        i += 1\n",
    "        \n",
    "    print(\"result: {0}\".format(res))\n",
    "    print(\"merge list({0}:{1}) returns {2} inversions\".format(start, end, inv))\n",
    "\n",
    "    return inv\n",
    "\n",
    "def CountInversions(lst):\n",
    "    return _SortAndCountInversions(lst, 0, len(lst)-1)"
   ]
  },
  {
   "cell_type": "code",
   "execution_count": 153,
   "metadata": {},
   "outputs": [
    {
     "name": "stdout",
     "output_type": "stream",
     "text": [
      "orig: [6, 5, 4, 3, 2, 1]\n",
      "result: [5, 6]\n",
      "merge list(0:1) returns 1 inversions\n",
      "orig: [5, 6, 4, 3, 2, 1]\n",
      "result: [4, 5, 6]\n",
      "merge list(0:2) returns 2 inversions\n",
      "orig: [4, 5, 6, 3, 2, 1]\n",
      "result: [2, 3]\n",
      "merge list(3:4) returns 1 inversions\n",
      "orig: [4, 5, 6, 2, 3, 1]\n",
      "result: [1, 2, 3]\n",
      "merge list(3:5) returns 2 inversions\n",
      "orig: [4, 5, 6, 1, 2, 3]\n",
      "result: [1, 2, 3, 4, 5, 6]\n",
      "merge list(0:5) returns 9 inversions\n",
      "15\n",
      "orig: [1, 3, 5, 2, 4, 6]\n",
      "result: [1, 3]\n",
      "merge list(0:1) returns 0 inversions\n",
      "orig: [1, 3, 5, 2, 4, 6]\n",
      "result: [1, 3, 5]\n",
      "merge list(0:2) returns 0 inversions\n",
      "orig: [1, 3, 5, 2, 4, 6]\n",
      "result: [2, 4]\n",
      "merge list(3:4) returns 0 inversions\n",
      "orig: [1, 3, 5, 2, 4, 6]\n",
      "result: [2, 4, 6]\n",
      "merge list(3:5) returns 0 inversions\n",
      "orig: [1, 3, 5, 2, 4, 6]\n",
      "result: [1, 2, 3, 4, 5, 6]\n",
      "merge list(0:5) returns 3 inversions\n",
      "3\n"
     ]
    }
   ],
   "source": [
    "print(CountInversions([6,5,4,3,2,1]))\n",
    "print(CountInversions([1,3,5,2,4,6]))"
   ]
  },
  {
   "cell_type": "code",
   "execution_count": 146,
   "metadata": {},
   "outputs": [],
   "source": [
    "import requests\n",
    "\n",
    "link = 'https://d3c33hcgiwev3.cloudfront.net/_bcb5c6658381416d19b01bfc1d3993b5_IntegerArray.txt?Expires=1480464000&Signature=RCdtFZu-Gez6nnZpPZHBUudgL3iZ67lnCJv2Ny5Djnc5qUw3LTVzL5QvWIDD4cg5Y5DJxJfQywpIl8JQEOpFt6dnMG0qJtKwfQyxo1dp~05Jur3EYjkXEU~iwETflMCo1pigPuvQJOtGEcfb6dEFIDL81hhCuYhQam6Wb~AjlZQ_&Key-Pair-Id=APKAJLTNE6QMUY6HBC5A'\n",
    "response = requests.get(link)\n",
    "integers = [int(n) for n in response.text.splitlines()]"
   ]
  },
  {
   "cell_type": "code",
   "execution_count": 148,
   "metadata": {},
   "outputs": [
    {
     "data": {
      "text/plain": [
       "2407905288"
      ]
     },
     "execution_count": 148,
     "metadata": {},
     "output_type": "execute_result"
    }
   ],
   "source": [
    "CountInversions(integers)"
   ]
  },
  {
   "cell_type": "code",
   "execution_count": null,
   "metadata": {},
   "outputs": [],
   "source": []
  }
 ],
 "metadata": {
  "kernelspec": {
   "display_name": "Python [default]",
   "language": "python",
   "name": "python3"
  },
  "language_info": {
   "codemirror_mode": {
    "name": "ipython",
    "version": 3
   },
   "file_extension": ".py",
   "mimetype": "text/x-python",
   "name": "python",
   "nbconvert_exporter": "python",
   "pygments_lexer": "ipython3",
   "version": "3.5.2"
  }
 },
 "nbformat": 4,
 "nbformat_minor": 1
}
