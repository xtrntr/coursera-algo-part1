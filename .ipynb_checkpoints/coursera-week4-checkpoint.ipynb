{
 "cells": [
  {
   "cell_type": "code",
   "execution_count": 37,
   "metadata": {
    "collapsed": true
   },
   "outputs": [],
   "source": [
    "import requests\n",
    "import json\n",
    "import random"
   ]
  },
  {
   "cell_type": "markdown",
   "metadata": {},
   "source": [
    "The file contains the edges of a directed graph. Vertices are labeled as positive integers from 1 to 875714. Every row indicates an edge, the vertex label in first column is the tail and the vertex label in second column is the head (recall the graph is directed, and the edges are directed from the first column vertex to the second column vertex). So for example, the 11th row looks liks : \"2 47646\". This just means that the vertex with label 2 has an outgoing edge to the vertex with label 47646"
   ]
  },
  {
   "cell_type": "code",
   "execution_count": 26,
   "metadata": {
    "collapsed": false
   },
   "outputs": [],
   "source": [
    "req = requests.get('https://d3c33hcgiwev3.cloudfront.net/_410e934e6553ac56409b2cb7096a44aa_SCC.txt?Expires=1484697600&Signature=iaXNDcLn8o1kCGBNDdai1G7g3ugq3R3i-P-ygqjrQOvZ9VI3et8FzqCXJPo4IHc9QBoy1mEAMCztRqcgTeVzw57WBpsugWXJmp0ppBohVne-bCCGpcA0wEhBg~~v0sahrGNqdMnxwk0MpMBQOE-D7oYzCBDofOhVncAiB7Ic0Mo_&Key-Pair-Id=APKAJLTNE6QMUY6HBC5A')"
   ]
  },
  {
   "cell_type": "code",
   "execution_count": 63,
   "metadata": {
    "collapsed": false
   },
   "outputs": [],
   "source": [
    "info = [n.split(' ')[:-1] for n in req.text.splitlines()]\n",
    "info = [{x[0]:x[1]} for x in info]"
   ]
  },
  {
   "cell_type": "markdown",
   "metadata": {},
   "source": [
    "Kosaraju's algorithm :\n",
    "\n",
    "1) reverse edges\n",
    "2) calculate finishing times\n",
    "3) call DFS on "
   ]
  },
  {
   "cell_type": "code",
   "execution_count": 133,
   "metadata": {
    "collapsed": false
   },
   "outputs": [
    {
     "data": {
      "text/plain": [
       "{1}"
      ]
     },
     "execution_count": 133,
     "metadata": {},
     "output_type": "execute_result"
    }
   ],
   "source": [
    "vertexes = 875714\n",
    "random.randrange(875714)\n",
    "\n",
    "possibilities = [1]\n",
    "explored = [1,2,3]\n",
    "\n",
    "# can we move forward?\n",
    "list(set(possibilities).intersection(explored))[0]"
   ]
  },
  {
   "cell_type": "code",
   "execution_count": 158,
   "metadata": {
    "collapsed": false
   },
   "outputs": [
    {
     "data": {
      "text/plain": [
       "[('b', 2), ('a', 1)]"
      ]
     },
     "execution_count": 158,
     "metadata": {},
     "output_type": "execute_result"
    }
   ],
   "source": [
    "a = {'a': 1, 'b': 2}\n",
    "list(a.items())"
   ]
  },
  {
   "cell_type": "code",
   "execution_count": 153,
   "metadata": {
    "collapsed": false
   },
   "outputs": [
    {
     "data": {
      "text/plain": [
       "'a'"
      ]
     },
     "execution_count": 153,
     "metadata": {},
     "output_type": "execute_result"
    }
   ],
   "source": [
    "list(a.items())[0][0]"
   ]
  },
  {
   "cell_type": "code",
   "execution_count": 160,
   "metadata": {
    "collapsed": false
   },
   "outputs": [
    {
     "ename": "AttributeError",
     "evalue": "'list' object has no attribute 'items'",
     "output_type": "error",
     "traceback": [
      "\u001b[0;31m---------------------------------------------------------------------------\u001b[0m",
      "\u001b[0;31mAttributeError\u001b[0m                            Traceback (most recent call last)",
      "\u001b[0;32m<ipython-input-160-86ddca5269b1>\u001b[0m in \u001b[0;36m<module>\u001b[0;34m()\u001b[0m\n\u001b[0;32m----> 1\u001b[0;31m \u001b[0mget_edges_to\u001b[0m\u001b[0;34m(\u001b[0m\u001b[0mtest\u001b[0m\u001b[0;34m,\u001b[0m \u001b[0;36m1\u001b[0m\u001b[0;34m)\u001b[0m\u001b[0;34m\u001b[0m\u001b[0m\n\u001b[0m",
      "\u001b[0;32m<ipython-input-159-a8491036c13a>\u001b[0m in \u001b[0;36mget_edges_to\u001b[0;34m(graph, node)\u001b[0m\n\u001b[1;32m     15\u001b[0m \u001b[0;34m\u001b[0m\u001b[0m\n\u001b[1;32m     16\u001b[0m \u001b[0;32mdef\u001b[0m \u001b[0mget_edges_to\u001b[0m\u001b[0;34m(\u001b[0m\u001b[0mgraph\u001b[0m\u001b[0;34m,\u001b[0m \u001b[0mnode\u001b[0m\u001b[0;34m)\u001b[0m\u001b[0;34m:\u001b[0m\u001b[0;34m\u001b[0m\u001b[0m\n\u001b[0;32m---> 17\u001b[0;31m     \u001b[0;32mreturn\u001b[0m \u001b[0;34m[\u001b[0m\u001b[0mpair\u001b[0m\u001b[0;34m[\u001b[0m\u001b[0;36m1\u001b[0m\u001b[0;34m]\u001b[0m \u001b[0;32mfor\u001b[0m \u001b[0mpair\u001b[0m \u001b[0;32min\u001b[0m \u001b[0mlist\u001b[0m\u001b[0;34m(\u001b[0m\u001b[0mgraph\u001b[0m\u001b[0;34m.\u001b[0m\u001b[0mitems\u001b[0m\u001b[0;34m(\u001b[0m\u001b[0;34m)\u001b[0m\u001b[0;34m)\u001b[0m \u001b[0;32mif\u001b[0m \u001b[0mnode\u001b[0m \u001b[0;34m==\u001b[0m \u001b[0mpair\u001b[0m\u001b[0;34m[\u001b[0m\u001b[0;36m0\u001b[0m\u001b[0;34m]\u001b[0m\u001b[0;34m]\u001b[0m\u001b[0;34m\u001b[0m\u001b[0m\n\u001b[0m\u001b[1;32m     18\u001b[0m \u001b[0;34m\u001b[0m\u001b[0m\n\u001b[1;32m     19\u001b[0m \u001b[0;32mdef\u001b[0m \u001b[0mget_edges_from\u001b[0m\u001b[0;34m(\u001b[0m\u001b[0mgraph\u001b[0m\u001b[0;34m,\u001b[0m \u001b[0mnode\u001b[0m\u001b[0;34m)\u001b[0m\u001b[0;34m:\u001b[0m\u001b[0;34m\u001b[0m\u001b[0m\n",
      "\u001b[0;31mAttributeError\u001b[0m: 'list' object has no attribute 'items'"
     ]
    }
   ],
   "source": [
    "get_edges_to(test, 1)"
   ]
  },
  {
   "cell_type": "code",
   "execution_count": 51,
   "metadata": {
    "collapsed": false
   },
   "outputs": [
    {
     "ename": "SyntaxError",
     "evalue": "EOL while scanning string literal (<ipython-input-51-11dbc34b9146>, line 64)",
     "output_type": "error",
     "traceback": [
      "\u001b[0;36m  File \u001b[0;32m\"<ipython-input-51-11dbc34b9146>\"\u001b[0;36m, line \u001b[0;32m64\u001b[0m\n\u001b[0;31m    print(\"in {} \".format(current))\"\u001b[0m\n\u001b[0m                                    ^\u001b[0m\n\u001b[0;31mSyntaxError\u001b[0m\u001b[0;31m:\u001b[0m EOL while scanning string literal\n"
     ]
    }
   ],
   "source": [
    "test = [\n",
    "    [1,7],\n",
    "    [7,4],\n",
    "    [4,1],\n",
    "    [7,9],\n",
    "    [9,6],\n",
    "    [6,3],\n",
    "    [6,8],\n",
    "    [8,2],\n",
    "    [10, 9],\n",
    "    [2,5],\n",
    "    [5,8]\n",
    "]\n",
    "finishing_times = []\n",
    "vertexes = len(test)\n",
    "\n",
    "def get_edges_to(graph, node):\n",
    "    return [edge[1] for edge in graph if node == edge[0]]\n",
    "\n",
    "def get_edges_from(graph, node):\n",
    "    return [edge[0] for edge in graph if node == edge[1]]\n",
    "\n",
    "def traverse(graph):\n",
    "    # graph is a list of sub-lists where each sub-list contains an edge\n",
    "    # first element is the edge-tail, second element is the edge-head\n",
    "    # nodes are numbered from 0 to len(graph)-1\n",
    "    # finishing_times = []\n",
    "    visited = set()\n",
    "    #traverse_iter2(graph, random.randrange(len(graph)), visited)\n",
    "    traverse_iteration(graph, random.randrange(len(graph)), visited)\n",
    "    print(visited)\n",
    "    \n",
    "def traverse_iter(graph, current, visited, junctions):\n",
    "    if visited == len(graph):\n",
    "        if junctions != []:\n",
    "            print(\"error\")\n",
    "        return\n",
    "    else:\n",
    "        possibilities = get_edges_to(graph, current) + get_edges_from(graph, current)\n",
    "        if len(possibilities) > 1:\n",
    "            junctions.push(current)\n",
    "        elif len(possibilities) == 1:\n",
    "            visited.append(current)\n",
    "            \n",
    "def traverse_iter2(graph, current, visited):\n",
    "    print(\"in {}\".format(current))\n",
    "    if current in visited:\n",
    "        return\n",
    "    visited.add(current)\n",
    "    possibilities = get_edges_to(graph, current) + get_edges_from(graph, current)\n",
    "    for i in possibilities:\n",
    "        print(\"found :{}\".format(i))\n",
    "        traverse_iter2(graph, i, visited)\n",
    "        \n",
    "def traverse_iteration(graph, current, visited):\n",
    "    current_stack = []\n",
    "    possibilities = get_edges_to(graph, current) + get_edges_from(graph, current)\n",
    "    current_stack.append(current)\n",
    "    \n",
    "    while len(current_stack) > 0:\n",
    "        current = current_stack.pop()\n",
    "        if current in visited:\n",
    "            continue            \n",
    "        print(\"in {} \".format(current))\n",
    "        visited.add(current)\n",
    "        \n",
    "        possibilities = get_edges_to(graph, current) + get_edges_from(graph, current)\n",
    "        for next_node in possibilities:\n",
    "\n",
    "            current_stack.append(next_node)\n",
    "            \n",
    "        \n",
    "    \n",
    "        \n",
    "        \n",
    "        \n",
    "        \n",
    "        \n",
    "        \n",
    "            \n",
    "            \n",
    "        \n",
    "\n",
    "    \n",
    "traverse(test)"
   ]
  },
  {
   "cell_type": "code",
   "execution_count": 42,
   "metadata": {
    "collapsed": false
   },
   "outputs": [
    {
     "data": {
      "text/plain": [
       "1"
      ]
     },
     "execution_count": 42,
     "metadata": {},
     "output_type": "execute_result"
    }
   ],
   "source": [
    "import random\n",
    "random.randrange(2)"
   ]
  },
  {
   "cell_type": "code",
   "execution_count": 65,
   "metadata": {
    "collapsed": false
   },
   "outputs": [
    {
     "data": {
      "text/plain": [
       "[{'1': '1'},\n",
       " {'1': '2'},\n",
       " {'1': '5'},\n",
       " {'1': '6'},\n",
       " {'1': '7'},\n",
       " {'1': '3'},\n",
       " {'1': '8'},\n",
       " {'1': '4'},\n",
       " {'2': '47646'},\n",
       " {'2': '47647'},\n",
       " {'2': '13019'},\n",
       " {'2': '47648'},\n",
       " {'2': '47649'},\n",
       " {'2': '47650'},\n",
       " {'2': '7700'}]"
      ]
     },
     "execution_count": 65,
     "metadata": {},
     "output_type": "execute_result"
    }
   ],
   "source": [
    "info[:15]"
   ]
  },
  {
   "cell_type": "code",
   "execution_count": null,
   "metadata": {
    "collapsed": true
   },
   "outputs": [],
   "source": [
    "def find_scc(graph):\n",
    "    current = rand.randrange(vertexes)\n",
    "    # first stage\n",
    "    while len(finishing_times) != vertexes:\n",
    "        finishing_times = dfs(graph)\n",
    "        \n",
    "        "
   ]
  }
 ],
 "metadata": {
  "anaconda-cloud": {},
  "kernelspec": {
   "display_name": "Python [default]",
   "language": "python",
   "name": "python3"
  },
  "language_info": {
   "codemirror_mode": {
    "name": "ipython",
    "version": 3
   },
   "file_extension": ".py",
   "mimetype": "text/x-python",
   "name": "python",
   "nbconvert_exporter": "python",
   "pygments_lexer": "ipython3",
   "version": "3.5.2"
  }
 },
 "nbformat": 4,
 "nbformat_minor": 1
}
