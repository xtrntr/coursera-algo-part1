{
 "cells": [
  {
   "cell_type": "code",
   "execution_count": 41,
   "metadata": {},
   "outputs": [],
   "source": [
    "import requests\n",
    "import random\n",
    "from copy import deepcopy\n",
    "\n",
    "link = 'https://d3c33hcgiwev3.cloudfront.net/_f370cd8b4d3482c940e4a57f489a200b_kargerMinCut.txt?Expires=1483920000&Signature=MLGP4bio4-R6ZYkn7XifS~UpMWe3Zgm39w4cba8gqgGoYvHDEsM1l8EexAAJwml40fRcE2iflPImKUAWD1I1UQ4NfzaIvSvGVjQt0ufIK7PqkYflysMzKbD0T9YOwtMSaxQkdVteZ24p-vU97md4I8ElV-PYn4pJxRelWf5Trc4_&Key-Pair-Id=APKAJLTNE6QMUY6HBC5A'\n",
    "response = requests.get(link)"
   ]
  },
  {
   "cell_type": "code",
   "execution_count": 42,
   "metadata": {},
   "outputs": [],
   "source": [
    "info = [[int(x) for x in n.split('\\t')[:-1]] for n in response.text.splitlines()]\n",
    "graph = {}\n",
    "for n in info:\n",
    "    graph[n[0]] =  n[1:]\n",
    "\n",
    "iterations = range(len(graph) - 2)"
   ]
  },
  {
   "cell_type": "code",
   "execution_count": 29,
   "metadata": {},
   "outputs": [
    {
     "name": "stdout",
     "output_type": "stream",
     "text": [
      "0.30001211166381836\n"
     ]
    }
   ],
   "source": [
    "from time import time\n",
    "\n",
    "start = time()\n",
    "mincut_iter(deepcopy(graph))\n",
    "end = time()\n",
    "print(end-start)"
   ]
  },
  {
   "cell_type": "code",
   "execution_count": 9,
   "metadata": {},
   "outputs": [],
   "source": [
    "from pprint import pprint\n",
    "\n",
    "def mincut_iter(graph):\n",
    "    iterations = range(len(graph) - 2)\n",
    "\n",
    "    for i in iterations:\n",
    "        #pprint(graph)\n",
    "        nodes = list(graph.keys())\n",
    "        new_idx = random.randrange(len(nodes))\n",
    "        new_node = nodes[new_idx]\n",
    "        choices = list(set(graph[new_node]))\n",
    "        removed_idx = random.randrange(len(list(choices)))\n",
    "        removed_node = choices[removed_idx]\n",
    "        # clear reference to edges in adjacent nodes\n",
    "        nodes_to_clear = [n for n in graph[removed_node]]\n",
    "        for n in nodes_to_clear:\n",
    "            if graph.get(n, None):\n",
    "                graph[n] = [x if x != removed_node else new_node for x in graph[n]]\n",
    "        # remove self loops\n",
    "        graph[new_node] = [n for n in graph[new_node] if n != new_node] + [n for n in graph[removed_node] if n != new_node]\n",
    "        graph.pop(removed_node)\n",
    "        #print(removed_node, new_node)\n",
    "    return len(graph[new_node])"
   ]
  },
  {
   "cell_type": "code",
   "execution_count": 43,
   "metadata": {},
   "outputs": [
    {
     "data": {
      "text/plain": [
       "20"
      ]
     },
     "execution_count": 43,
     "metadata": {},
     "output_type": "execute_result"
    }
   ],
   "source": [
    "for i in range(200):\n",
    "    new = mincut_iter(deepcopy(graph))\n",
    "    if smallest == 0 or new < smallest:\n",
    "        smallest = new\n",
    "        print(smallest)\n",
    "smallest"
   ]
  },
  {
   "cell_type": "code",
   "execution_count": 30,
   "metadata": {},
   "outputs": [
    {
     "data": {
      "text/plain": [
       "20"
      ]
     },
     "execution_count": 30,
     "metadata": {},
     "output_type": "execute_result"
    }
   ],
   "source": [
    "smallest"
   ]
  },
  {
   "cell_type": "code",
   "execution_count": 40,
   "metadata": {},
   "outputs": [
    {
     "data": {
      "text/plain": [
       "20"
      ]
     },
     "execution_count": 40,
     "metadata": {},
     "output_type": "execute_result"
    }
   ],
   "source": [
    "smallestz"
   ]
  },
  {
   "cell_type": "code",
   "execution_count": null,
   "metadata": {},
   "outputs": [],
   "source": []
  }
 ],
 "metadata": {
  "kernelspec": {
   "display_name": "Python [default]",
   "language": "python",
   "name": "python3"
  },
  "language_info": {
   "codemirror_mode": {
    "name": "ipython",
    "version": 3
   },
   "file_extension": ".py",
   "mimetype": "text/x-python",
   "name": "python",
   "nbconvert_exporter": "python",
   "pygments_lexer": "ipython3",
   "version": "3.5.2"
  }
 },
 "nbformat": 4,
 "nbformat_minor": 1
}
