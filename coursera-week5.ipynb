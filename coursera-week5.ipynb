{
 "cells": [
  {
   "cell_type": "code",
   "execution_count": 40,
   "metadata": {
    "collapsed": false
   },
   "outputs": [],
   "source": [
    "import requests\n",
    "from copy import deepcopy"
   ]
  },
  {
   "cell_type": "code",
   "execution_count": 14,
   "metadata": {
    "collapsed": false
   },
   "outputs": [],
   "source": [
    "req = requests.get('https://d3c33hcgiwev3.cloudfront.net/_dcf1d02570e57d23ab526b1e33ba6f12_dijkstraData.txt?Expires=1485475200&Signature=ke5yht70K9MetkwnpGeR4ywlBOFKApDh6nBraN6hFk43C6nP46U~7vA~-Vkg-HknW~dfw5p35hj5qTvXV7OtZbTqqAIpHVv4zxY-r9Ztj~l~8SZgg4~LKVbMhjd0~UI4d0EMNlpXLkzXTYQK-H8tX6oqJpmow-iV~Dc-8cuUX2Q_&Key-Pair-Id=APKAJLTNE6QMUY6HBC5A')\n",
    "lines = [x.decode(\"utf-8\").split('\\t') for x in req.iter_lines()]"
   ]
  },
  {
   "cell_type": "code",
   "execution_count": 15,
   "metadata": {
    "collapsed": false
   },
   "outputs": [
    {
     "data": {
      "text/plain": [
       "['1',\n",
       " '80,982',\n",
       " '163,8164',\n",
       " '170,2620',\n",
       " '145,648',\n",
       " '200,8021',\n",
       " '173,2069',\n",
       " '92,647',\n",
       " '26,4122',\n",
       " '140,546',\n",
       " '11,1913',\n",
       " '160,6461',\n",
       " '27,7905',\n",
       " '40,9047',\n",
       " '150,2183',\n",
       " '61,9146',\n",
       " '159,7420',\n",
       " '198,1724',\n",
       " '114,508',\n",
       " '104,6647',\n",
       " '30,4612',\n",
       " '99,2367',\n",
       " '138,7896',\n",
       " '169,8700',\n",
       " '49,2437',\n",
       " '125,2909',\n",
       " '117,2597',\n",
       " '55,6399',\n",
       " '']"
      ]
     },
     "execution_count": 15,
     "metadata": {},
     "output_type": "execute_result"
    }
   ],
   "source": [
    "lines[0]"
   ]
  },
  {
   "cell_type": "code",
   "execution_count": 164,
   "metadata": {
    "collapsed": false
   },
   "outputs": [],
   "source": [
    "graph = {int(x[0]): {int(y[0]): int(y[1]) for y in [a.split(',') for a in x[1:]][:-1]} for x in lines}"
   ]
  },
  {
   "cell_type": "code",
   "execution_count": 34,
   "metadata": {
    "collapsed": false
   },
   "outputs": [],
   "source": [
    "test = {\n",
    "    0:{\n",
    "        1:7,\n",
    "        2:9,\n",
    "        3:14\n",
    "    },\n",
    "    1:{\n",
    "        0:7,\n",
    "        2:10,\n",
    "        4:15,\n",
    "    },\n",
    "    2:{\n",
    "        0:9,\n",
    "        1:10,\n",
    "        3:2,\n",
    "        4:11,\n",
    "    },\n",
    "    3:{\n",
    "        0:14,\n",
    "        2:2,\n",
    "        5:9,\n",
    "    },\n",
    "    4:{\n",
    "        1:15,\n",
    "        2:11,\n",
    "        5:6,\n",
    "    },\n",
    "    5:{\n",
    "        3:9,\n",
    "        4:6,\n",
    "    },\n",
    "}\n",
    "\n",
    "test_distances = {\n",
    "    0:0\n",
    "}"
   ]
  },
  {
   "cell_type": "code",
   "execution_count": 155,
   "metadata": {
    "collapsed": false
   },
   "outputs": [],
   "source": [
    "def find_next_node(graph, distances):\n",
    "    rtn_tuple = tuple()\n",
    "    lowest = 9999999999\n",
    "    for key, value in distances.items():\n",
    "        base_weight = distances[key]\n",
    "        for node_head, sub_weight in graph[key].items():\n",
    "            next_val = base_weight + sub_weight\n",
    "            # graph should not have any key-values (node-weight) pair that has been visited already\n",
    "            if lowest > next_val:\n",
    "                lowest = next_val\n",
    "                rtn_tuple = (node_head, next_val)\n",
    "    return rtn_tuple\n",
    "\n",
    "def update_graph(graph, distances, node_head):\n",
    "    for key, value in distances.items():\n",
    "        if graph.get(key, None):\n",
    "            graph[key].pop(node_head, None)\n",
    "        if graph.get(node_head, None):\n",
    "            graph[node_head].pop(key, None)\n",
    "    return"
   ]
  },
  {
   "cell_type": "code",
   "execution_count": 165,
   "metadata": {
    "collapsed": true
   },
   "outputs": [],
   "source": [
    "def dijkstra(orig_graph, source):\n",
    "    graph = deepcopy(orig_graph)\n",
    "    distances = {source:0}\n",
    "    a = 0\n",
    "    while len(distances) != len(graph):\n",
    "        a += 1\n",
    "#        print('iter {0}'.format(a))\n",
    "#        print('distances {0}'.format(distances))\n",
    "        node_head, distance = find_next_node(graph, distances)\n",
    "#        print('adding node {0} to visited set'.format(node_head))\n",
    "        distances[node_head] = distance\n",
    "        update_graph(graph, distances, node_head)\n",
    "    return distances"
   ]
  },
  {
   "cell_type": "code",
   "execution_count": 167,
   "metadata": {
    "collapsed": false
   },
   "outputs": [],
   "source": [
    "answers = dijkstra(graph, 1)"
   ]
  },
  {
   "cell_type": "code",
   "execution_count": 172,
   "metadata": {
    "collapsed": false
   },
   "outputs": [
    {
     "data": {
      "text/plain": [
       "'2599,2610,2947,2052,2367,2399,2029,2442,2505,3068'"
      ]
     },
     "execution_count": 172,
     "metadata": {},
     "output_type": "execute_result"
    }
   ],
   "source": [
    "rtn = []\n",
    "for key in [7,37,59,82,99,115,133,165,188,197]:\n",
    "    rtn.append(str(answers[key]))\n",
    "','.join(rtn)"
   ]
  },
  {
   "cell_type": "code",
   "execution_count": null,
   "metadata": {
    "collapsed": true
   },
   "outputs": [],
   "source": []
  }
 ],
 "metadata": {
  "anaconda-cloud": {},
  "kernelspec": {
   "display_name": "Python [default]",
   "language": "python",
   "name": "python3"
  },
  "language_info": {
   "codemirror_mode": {
    "name": "ipython",
    "version": 3
   },
   "file_extension": ".py",
   "mimetype": "text/x-python",
   "name": "python",
   "nbconvert_exporter": "python",
   "pygments_lexer": "ipython3",
   "version": "3.5.2"
  }
 },
 "nbformat": 4,
 "nbformat_minor": 1
}
